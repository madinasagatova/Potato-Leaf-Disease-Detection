{
 "cells": [
  {
   "cell_type": "markdown",
   "id": "67bab4b6-3388-49bb-b2cc-a319113179a3",
   "metadata": {},
   "source": [
    "# MSC_DA_CA1_Semester_2: A Comparative Study of VGG16 and EfficientNet for Potato Leaf Disease Detection: An Integration of Hadoop and Apache Spark"
   ]
  },
  {
   "cell_type": "markdown",
   "id": "aeb0427a-4315-47b8-8f37-8aeb64585479",
   "metadata": {},
   "source": [
    "**Name:**\n",
    "Madina Sagatova\n",
    "\n",
    "**Student ID:**\n",
    "2021255\n",
    "\n",
    "**Student email:**\n",
    "2021255@student.cct.ie\n",
    "\n",
    "**Programme Title:**\n",
    "MSc in Data Analytics"
   ]
  },
  {
   "cell_type": "code",
   "execution_count": null,
   "id": "dea38448-0525-484b-907d-46e9f46ace64",
   "metadata": {},
   "outputs": [],
   "source": []
  }
 ],
 "metadata": {
  "kernelspec": {
   "display_name": "Python 3 (ipykernel)",
   "language": "python",
   "name": "python3"
  },
  "language_info": {
   "codemirror_mode": {
    "name": "ipython",
    "version": 3
   },
   "file_extension": ".py",
   "mimetype": "text/x-python",
   "name": "python",
   "nbconvert_exporter": "python",
   "pygments_lexer": "ipython3",
   "version": "3.11.5"
  }
 },
 "nbformat": 4,
 "nbformat_minor": 5
}
